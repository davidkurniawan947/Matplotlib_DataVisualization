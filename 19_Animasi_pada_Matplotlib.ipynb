{
  "nbformat": 4,
  "nbformat_minor": 0,
  "metadata": {
    "colab": {
      "provenance": []
    },
    "kernelspec": {
      "name": "python3",
      "display_name": "Python 3"
    },
    "language_info": {
      "name": "python"
    }
  },
  "cells": [
    {
      "cell_type": "markdown",
      "source": [
        "\n",
        "# **Matplotlib 19**\n",
        "Source : [Indonesia Belajar](https://youtu.be/MAV8eJsJzJk)"
      ],
      "metadata": {
        "id": "ULe2ZwaJzeX3"
      }
    },
    {
      "cell_type": "markdown",
      "source": [
        "## **Animasi Pada Matplotlib**"
      ],
      "metadata": {
        "id": "OokysEWpz1Dd"
      }
    },
    {
      "cell_type": "markdown",
      "source": [
        "### Import modules"
      ],
      "metadata": {
        "id": "EvQpyqz-zv5u"
      }
    },
    {
      "cell_type": "code",
      "execution_count": null,
      "metadata": {
        "id": "03cE6m3Lzdvt"
      },
      "outputs": [],
      "source": [
        "# Magic command\n",
        "%matplotlib inline"
      ]
    },
    {
      "cell_type": "code",
      "source": [
        "import matplotlib\n",
        "import matplotlib.pyplot as plt\n",
        "from matplotlib.animation import FuncAnimation\n",
        "from IPython import display\n",
        "import numpy as np\n",
        "\n",
        "# Cek versi\n",
        "print(matplotlib.__version__)\n",
        "print(np.__version__)"
      ],
      "metadata": {
        "colab": {
          "base_uri": "https://localhost:8080/"
        },
        "id": "bdCstdRpz5sg",
        "outputId": "445efb28-b962-4c59-becf-92291cdde5ec"
      },
      "execution_count": null,
      "outputs": [
        {
          "output_type": "stream",
          "name": "stdout",
          "text": [
            "3.2.2\n",
            "1.21.6\n"
          ]
        }
      ]
    },
    {
      "cell_type": "markdown",
      "source": [
        "### Review Figure\n",
        "- Membuat object figure dengan memanfaatkan plt.figure().\n",
        "- Menentukan limit batas sumbu x dari 0 sampai 8 dan sumbu y dari -4 sampai 2."
      ],
      "metadata": {
        "id": "MFUtjOLbz7Oh"
      }
    },
    {
      "cell_type": "code",
      "source": [
        "\n",
        "fig = plt.figure()\n",
        "plt.xlim((0, 8))\n",
        "plt.ylim((-4, 2))\n",
        "\n",
        "print(plt.plot([]))"
      ],
      "metadata": {
        "id": "8fP1I8Ua0Bl4"
      },
      "execution_count": null,
      "outputs": []
    },
    {
      "cell_type": "markdown",
      "source": [
        "Animasi pada Matplotlib\n",
        "- Untuk mengendalikan garis pada objek matplotlib.lines.Line2D kita dapat mengakes index ke-0 nya.\n",
        "- Fungsi line.set_date() digunakan untuk memanggil garis yang telah ditentukan sebelumnya.\n",
        "- Untuk menghasilkan animasi kita dapat memanggil fungsi FuncAnimation().\n",
        "- Parameter frames pada fungsi tersebut digunakan untuk mengatur frame yang dihasilkan setiap detiknya.\n",
        "- Seperti yang kita ketahui semakin tinggi FPS (frame per second) semakin halus animasi yang dihasilkan.\n",
        "- Parameter interval digunakan untuk mengatur kecepatan animasi.\n",
        "- Semakin kecil semakin cepat animasi yang dihasilkan.\n",
        "- Fungsi anim.to_html5_video() digunakan untuk mengkonversi animasi ke html5 video\n",
        "- Fungsi display.HTML(video) digunakan untuk html5 video ke halam web broswer kita\n",
        "Untuk melihat hasilnya, pastikan ffmpeg sudah terinstal."
      ],
      "metadata": {
        "id": "1D2q7bEv0LKW"
      }
    },
    {
      "cell_type": "code",
      "source": [
        "fig = plt.figure()\n",
        "plt.xlim((0, 4))\n",
        "plt.ylim((-2, 2))\n",
        "\n",
        "line = plt.plot([])[0]\n",
        "\n",
        "\n",
        "def animate(i):\n",
        "    x = np.linspace(0, 4, 1000)\n",
        "    y = np.sin(2 * np.pi * (x - 0.01 * i))\n",
        "    line.set_data(x, y)\n",
        "    return line,\n",
        "\n",
        "\n",
        "anim = FuncAnimation(fig, animate, frames=200, interval=50)\n",
        "\n",
        "video = anim.to_html5_video()\n",
        "html = display.HTML(video)\n",
        "display.display(html)\n",
        "\n",
        "plt.close()\n"
      ],
      "metadata": {
        "id": "zD2k7crw0NYp"
      },
      "execution_count": null,
      "outputs": []
    }
  ]
}