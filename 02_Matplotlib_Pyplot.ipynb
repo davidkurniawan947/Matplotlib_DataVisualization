{
  "nbformat": 4,
  "nbformat_minor": 0,
  "metadata": {
    "colab": {
      "provenance": []
    },
    "kernelspec": {
      "name": "python3",
      "display_name": "Python 3" 
    },
    "language_info": {
      "name": "python"
    }
  },
  "cells": [
    {
      "cell_type": "markdown",
      "source": [
        "# **Matplotlib 02**\n",
        "Source : [Indonesia Belajar](https://youtu.be/l6BzdTkZNRY)"
      ],
      "metadata": {
        "id": "u6D_0AheyU33"
      }
    },
    {
      "cell_type": "markdown",
      "source": [
        "# **Pengenalan pyplot**\n",
        "- pyplot merupakan koleksi atau kumpulan fungsi yang menjadikan Matplotlib dapat bekerja menyerupai MATLAB\n",
        "- pyplot API secara umum less-flexible bila dibandingkan object-oriented API."
      ],
      "metadata": {
        "id": "z43cO-lSyiLK"
      }
    },
    {
      "cell_type": "markdown",
      "source": [
        "# Import Modules\n"
      ],
      "metadata": {
        "id": "OFvLtAYn2gVp"
      }
    },
    {
      "cell_type": "markdown",
      "source": [
        "%matplotlib inline digunakan agar setiap grafik ditampilkan secara ‘inline’, dimana itu akan ditampilkan langsung pada cell notebook."
      ],
      "metadata": {
        "id": "rO3f4wkC3Dwa"
      }
    },
    {
      "cell_type": "code",
      "execution_count": 16,
      "metadata": {
        "id": "nRbfylrVyGv-"
      },
      "outputs": [],
      "source": [
        "%matplotlib inline"
      ]
    },
    {
      "cell_type": "code",
      "source": [
        "import matplotlib\n",
        "import matplotlib.pyplot as plt\n",
        "import numpy as np\n",
        "\n",
        "#Cara mengetahui versi\n",
        "print(matplotlib.__version__)\n",
        "print(np.__version__)"
      ],
      "metadata": {
        "colab": {
          "base_uri": "https://localhost:8080/"
        },
        "id": "dD6I3DWT2vvF",
        "outputId": "73f224ba-6463-4383-ea32-e2717284d167"
      },
      "execution_count": 17,
      "outputs": [
        {
          "output_type": "stream",
          "name": "stdout",
          "text": [
            "3.2.2\n",
            "1.21.6\n"
          ]
        }
      ]
    },
    {
      "cell_type": "markdown",
      "source": [
        "### Membuat Plotting Sederhana"
      ],
      "metadata": {
        "id": "bLFcjUst3VQs"
      }
    },
    {
      "cell_type": "code",
      "source": [
        "plt.plot([2, 5, 7, 8])\n",
        "plt.ylabel('sumbu y')\n",
        "plt.show() #Fungsi show() digunakan untuk menghilangkan output yang tidak perlu."
      ],
      "metadata": {
        "colab": {
          "base_uri": "https://localhost:8080/",
          "height": 265
        },
        "id": "hHQqerHB3X1K",
        "outputId": "207d5358-6f3e-4c16-e39b-df9a74d43a20"
      },
      "execution_count": 18,
      "outputs": [
        {
          "output_type": "display_data",
          "data": {
            "text/plain": [
              "<Figure size 432x288 with 1 Axes>"
            ],
            "image/png": "[encoded data removed]"
          },
          "metadata": {
            "needs_background": "light"
          }
        }
      ]
    },
    {
      "cell_type": "markdown",
      "source": [
        "- Pemanggilan fungsi plot() dapat dilakukan dengan menyertakan hanya sebuah deret bilangan (list/array) ataupun dua buah deret bilangan (list/array).\n",
        "- Bila pemanggilan hanya menyertakan sebuah deret bilangan, maka nilai pada deret bilangan tersebut akan dijadikan data point untuk nilai pada sumbu y; sedangkan nilai pada sumbu x akan secara otomatis dibuatkan sebuah deret bilangan terutut dengan nilai dimulai dari nol."
      ],
      "metadata": {
        "id": "T4U5jBIl3bTh"
      }
    },
    {
      "cell_type": "code",
      "source": [
        "plt.plot([2, 3, 4, 7], [5, 4, 2, 16])\n",
        "plt.show()"
      ],
      "metadata": {
        "colab": {
          "base_uri": "https://localhost:8080/",
          "height": 265
        },
        "id": "RW99bQoC4AFw",
        "outputId": "b25a1dd9-c90c-4509-e30c-11cea89efb3f"
      },
      "execution_count": 19,
      "outputs": [
        {
          "output_type": "display_data",
          "data": {
            "text/plain": [
              "<Figure size 432x288 with 1 Axes>"
            ],
            "image/png": "[encoded data removed]"
          },
          "metadata": {
            "needs_background": "light"
          }
        }
      ]
    },
    {
      "cell_type": "markdown",
      "source": [
        "- Pada bagian deret bilangan pertama yaitu [2, 3, 4, 7], akan dijadikan data point untuk nilai pada sumbu x. \n",
        "- Pada deret bilangan kedua yaitu [5, 4, 2, 16], akan dijadikan data point untuk nilai pada sumbu y.\n",
        "- Deret-deret tersebut dapat kita baca sebagai [(2,5), (3,4), (4,2), (7,16)]"
      ],
      "metadata": {
        "id": "TyBFLc4s38-7"
      }
    },
    {
      "cell_type": "markdown",
      "source": [
        "# Pengaturan Format pada plot"
      ],
      "metadata": {
        "id": "BuGMpWVr5PvP"
      }
    },
    {
      "cell_type": "markdown",
      "source": [
        "- Selain menyertakan dua buah deret bilangan sebagai parameter untuk sumbu x dan y, terdapat parameter ketiga yang bisa kita sertakan untuk mengatur warna dan jenis plotting.\n",
        "- Pengaturan parameter ketiga ini sepenuhnya mengadopsi gaya formatting pada MATLAB.\n",
        "- Nilai default untuk parameter ketiga ini adalah 'b-'.\n",
        "- Parameter ketiga ialah pengatur bentuk marker\n",
        "- Warna dari parameter ketiga dapat di ubah menjadi r (red), g (green), dll.\n",
        "- Bentuk marker dari parameter ketiga dapat di ubah menjadi 'o', ' * ', dll.\n",
        "- Contoh penggunaan parameter ketiga 'b-', 'g*', 'ro'.\n",
        "- Pemanggilan fungsi axis() menyertakan sebuah list [xmin, xmax, ymin, ymax]."
      ],
      "metadata": {
        "id": "GQu54U5z5Sxb"
      }
    },
    {
      "cell_type": "code",
      "source": [
        "plt.plot([1, 2, 3, 4], [1, 4, 9, 16], 'go')\n",
        "plt.axis([0, 6, 0, 20])\n",
        "plt.show()"
      ],
      "metadata": {
        "colab": {
          "base_uri": "https://localhost:8080/",
          "height": 269
        },
        "id": "DBFD1IOA61Qz",
        "outputId": "6660ac27-2fca-441f-ceb5-8f4b1826fed7"
      },
      "execution_count": 20,
      "outputs": [
        {
          "output_type": "display_data",
          "data": {
            "text/plain": [
              "<Figure size 432x288 with 1 Axes>"
            ],
            "image/png": "[encoded data removed]"
          },
          "metadata": {
            "needs_background": "light"
          }
        }
      ]
    },
    {
      "cell_type": "markdown",
      "source": [
        "- Pada kasus ini, parameter ketiga yang digunakan adalah 'go' yang berarti berwarna 'green, dan berbentuk marker 'o'.\n",
        "- Fungsi axis() bertujuan untuk menentukan batas nilai dari setiap sumbu.\n",
        "- Rentang sumbu x dan sumbu y masing-masing pada kasus ini adalah 0 - 6 dan 0 - 20."
      ],
      "metadata": {
        "id": "2tzShcSR67DX"
      }
    },
    {
      "cell_type": "markdown",
      "source": [
        "# Multi plot dalam Satu Pemanggilan Fungsi plot()"
      ],
      "metadata": {
        "id": "pZsIBnRQ7c3X"
      }
    },
    {
      "cell_type": "markdown",
      "source": [
        "- Fungsi arange() memiliki parameter (min_value, max_value, step_value)\n",
        "- Nilai 0. dan 5. menandakan bahwa mereka masing-masing bernilai floating point yaitu '0f dan 5f.'\n",
        "- Nilai 0. dan 5. masing-masing juga merepresentasikan nilai terendah dan nilai tertinggi."
      ],
      "metadata": {
        "id": "afxxZmRN761t"
      }
    },
    {
      "cell_type": "code",
      "source": [
        "t = np.arange(0., 5., 0.2)\n",
        "t"
      ],
      "metadata": {
        "colab": {
          "base_uri": "https://localhost:8080/"
        },
        "id": "L3lnh5Yo7ov1",
        "outputId": "7f0a50c5-2db1-48a7-c8bb-a03be93467ab"
      },
      "execution_count": 21,
      "outputs": [
        {
          "output_type": "execute_result",
          "data": {
            "text/plain": [
              "array([0. , 0.2, 0.4, 0.6, 0.8, 1. , 1.2, 1.4, 1.6, 1.8, 2. , 2.2, 2.4,\n",
              "       2.6, 2.8, 3. , 3.2, 3.4, 3.6, 3.8, 4. , 4.2, 4.4, 4.6, 4.8])"
            ]
          },
          "metadata": {},
          "execution_count": 21
        }
      ]
    },
    {
      "cell_type": "markdown",
      "source": [
        "- Untuk membuat plot dengan garis putus-putus kita dapat menggunakan simbol --.\n",
        "- Untuk membuat plot dengan marker kotak kita dapat menggunakan simbol s (square).\n",
        "- Untuk membuat plot dengan marker segitiga kita dapat menggunakan simbol ^."
      ],
      "metadata": {
        "id": "zMucAWCr8nED"
      }
    },
    {
      "cell_type": "code",
      "source": [
        "plt.plot(t, t, 'r--')\n",
        "plt.plot(t, t**2, 'bs')\n",
        "plt.plot(t, t**3, 'g^')\n",
        "plt.show()"
      ],
      "metadata": {
        "colab": {
          "base_uri": "https://localhost:8080/",
          "height": 265
        },
        "id": "N0eeIgC-7smk",
        "outputId": "978ead9f-5581-4838-fba7-fb007a376c8c"
      },
      "execution_count": 22,
      "outputs": [
        {
          "output_type": "display_data",
          "data": {
            "text/plain": [
              "<Figure size 432x288 with 1 Axes>"
            ],
            "image/png": "[encoded data removed]"
          },
          "metadata": {
            "needs_background": "light"
          }
        }
      ]
    },
    {
      "cell_type": "markdown",
      "source": [
        "Kita juga dapat melakukan multi plot dalam satu pemanggilan fungsi plot()"
      ],
      "metadata": {
        "id": "cwjDEE9R9OBl"
      }
    },
    {
      "cell_type": "code",
      "source": [
        "plt.plot(t, t, 'r--',    # Plotting 1\n",
        "         t, t**2, 'bs',  # Plotting 2\n",
        "         t, t**3, 'g^')  # Plotting 3\n",
        "plt.show()"
      ],
      "metadata": {
        "colab": {
          "base_uri": "https://localhost:8080/",
          "height": 265
        },
        "id": "dSX4moMQ9Odr",
        "outputId": "2ffc480a-c871-4e33-9e4c-4d8494833d0b"
      },
      "execution_count": 23,
      "outputs": [
        {
          "output_type": "display_data",
          "data": {
            "text/plain": [
              "<Figure size 432x288 with 1 Axes>"
            ],
            "image/png": "[encoded data removed]"
          },
          "metadata": {
            "needs_background": "light"
          }
        }
      ]
    },
    {
      "cell_type": "markdown",
      "source": [
        "# Plotting dengan keywords"
      ],
      "metadata": {
        "id": "qnNrhIAY9RzR"
      }
    },
    {
      "cell_type": "markdown",
      "source": [
        "Matplotlib juga memungkinkan kita untuk melakukan plotting sekumpulan nilai yang tersimpan dalam struktur data yang disertai keywords argument (kwargs) seperti pada dictionary dan Pandas DataFrame."
      ],
      "metadata": {
        "id": "uelUqKGt9WQn"
      }
    },
    {
      "cell_type": "code",
      "source": [
        "data = {'a': np.arange(50), # char 'a' disini bermaksud memiliki 50 values dari fungsi arange\n",
        "        'c': np.random.randint(0, 50, 50), # sedangkan char 'c' memiliki 50 values dari random angka 1 sampai dengan 50\n",
        "        'd': np.random.randn(50)} # char 'd' memiliki 50 values random tanpa syarat\n",
        "data['b'] = data['a'] + 10 * np.random.randn(50) # char 'b' memiliki 50 values dari persamaan disamping\n",
        "data['d'] = np.abs(data['d']) * 100 # dan char 'd' dimodifikasi sehingga memiliki 100 * value sebelumnya\n",
        "\n",
        "data"
      ],
      "metadata": {
        "colab": {
          "base_uri": "https://localhost:8080/"
        },
        "id": "xBW3rkgm9Zlw",
        "outputId": "366bd11f-ff73-4ea6-c0a5-e17f7009dc0f"
      },
      "execution_count": 24,
      "outputs": [
        {
          "output_type": "execute_result",
          "data": {
            "text/plain": [
              "{'a': array([ 0,  1,  2,  3,  4,  5,  6,  7,  8,  9, 10, 11, 12, 13, 14, 15, 16,\n",
              "        17, 18, 19, 20, 21, 22, 23, 24, 25, 26, 27, 28, 29, 30, 31, 32, 33,\n",
              "        34, 35, 36, 37, 38, 39, 40, 41, 42, 43, 44, 45, 46, 47, 48, 49]),\n",
              " 'c': array([34, 27, 13,  1, 48,  0, 26, 43, 14,  9, 33, 40,  6, 10, 29, 35,  9,\n",
              "        35,  1, 13, 48, 30, 31, 36, 16, 18, 30, 12, 14, 44, 10,  2, 46, 22,\n",
              "        30, 13,  7, 15, 28,  7, 32, 31, 45, 13, 21, 28, 17, 36,  1, 49]),\n",
              " 'd': array([156.35385232,  65.99894594,  16.17147402,  80.90088772,\n",
              "         61.65603563, 115.41890856,  12.14905196,  47.46398441,\n",
              "         45.08007337, 100.15673104,  43.42270735,  55.66175954,\n",
              "        174.81536393,  58.85627266, 133.48519278,  98.84256967,\n",
              "        105.13565113, 154.66459267,  75.59365732, 126.89073571,\n",
              "        154.80310404, 165.00825192,  62.03722412,  46.71323197,\n",
              "         22.95206993, 113.46897448,  70.57744268,  75.6120609 ,\n",
              "         90.26349081, 103.35629661,  24.86061229,  50.93178201,\n",
              "         79.83446566, 109.83472402,  27.40110639,  17.49612149,\n",
              "         95.70237803,  64.91878351, 146.72895579,  36.61249139,\n",
              "        138.84388028,  38.06452021,  22.58849577, 116.61730067,\n",
              "          9.84873907, 114.01898286,  62.08720904,  90.1128466 ,\n",
              "        291.74333092,   1.47276712]),\n",
              " 'b': array([  4.24198053,   3.29798662,  -0.35854591, -22.55864361,\n",
              "          4.63946992,  -0.85043071,   3.12417926,   0.10751372,\n",
              "          9.68704857,   7.57583088,  21.69407004,  -3.09034891,\n",
              "         18.66178515,   3.72379832,   4.27904712,  35.64870849,\n",
              "          6.42524388,  12.35636277,  22.28929374,  10.88567566,\n",
              "         20.88166655,  24.25695526,   7.80134899,  12.42906423,\n",
              "         13.69441771,  22.27867038,  34.728813  ,  21.61558052,\n",
              "         25.57756713,  28.89883801,  33.66180212,  44.53299811,\n",
              "         20.94523601,  34.30648212,  24.93841117,  19.55337347,\n",
              "         33.69626152,  35.98250934,  47.90238194,  35.9962464 ,\n",
              "         45.65385218,  42.95887203,  19.31444282,  51.50646969,\n",
              "         19.4508363 ,  50.25514317,  52.62766027,  49.38914054,\n",
              "         38.21600213,  66.53587544])}"
            ]
          },
          "metadata": {},
          "execution_count": 24
        }
      ]
    },
    {
      "cell_type": "code",
      "source": [
        "# Char 'a' dan 'b; digunakan sebagai dictionary data untuk ditampilkan pada scatter plot\n",
        "plt.scatter('a', 'b', data=data) \n",
        "\n",
        "# Memberi label sumbu x dan y\n",
        "plt.xlabel('entry a') \n",
        "plt.ylabel('entry b')\n",
        "\n",
        "plt.show()"
      ],
      "metadata": {
        "colab": {
          "base_uri": "https://localhost:8080/",
          "height": 279
        },
        "id": "N0YxI10r94Js",
        "outputId": "b0a8bf4c-26f1-4844-8dc5-585418733438"
      },
      "execution_count": 25,
      "outputs": [
        {
          "output_type": "display_data",
          "data": {
            "text/plain": [
              "<Figure size 432x288 with 1 Axes>"
            ],
            "image/png": "[encoded data removed]"
          },
          "metadata": {
            "needs_background": "light"
          }
        }
      ]
    },
    {
      "cell_type": "code",
      "source": [
        "# Char 'c' dan 's', merupakan parameter yang masing-masing digunakan untuk merepresentasikan warna (c) dan ukuran (s).\n",
        "plt.scatter('a', 'b', c='c', s='d', data=data)\n",
        "plt.xlabel('entry a')\n",
        "plt.ylabel('entry b')\n",
        "plt.show()"
      ],
      "metadata": {
        "colab": {
          "base_uri": "https://localhost:8080/",
          "height": 279
        },
        "id": "ng18C8B894PX",
        "outputId": "1f50852c-a53b-4990-f0b8-2b6d763734a3"
      },
      "execution_count": 26,
      "outputs": [
        {
          "output_type": "display_data",
          "data": {
            "text/plain": [
              "<Figure size 432x288 with 1 Axes>"
            ],
            "image/png": "[encoded data removed]"
          },
          "metadata": {
            "needs_background": "light"
          }
        }
      ]
    },
    {
      "cell_type": "markdown",
      "source": [
        "# Plotting untuk tipe data categorical"
      ],
      "metadata": {
        "id": "NJjq49-H-0y3"
      }
    },
    {
      "cell_type": "markdown",
      "source": [
        "Matplotlib juga mendukung plotting untuk data dengan tipe kategori atau biasa dikenal dengan istilah categorical data atau categorical variables."
      ],
      "metadata": {
        "id": "zSY4KGIC-4SU"
      }
    },
    {
      "cell_type": "code",
      "source": [
        "names = ['group_a', 'group_b', 'group_c'] # String\n",
        "values = [1, 10, 100] # Int"
      ],
      "metadata": {
        "id": "8rD2IjvK-9MY"
      },
      "execution_count": 27,
      "outputs": []
    },
    {
      "cell_type": "code",
      "source": [
        "plt.plot(names, values) # plot(x, y)\n",
        "plt.show()"
      ],
      "metadata": {
        "colab": {
          "base_uri": "https://localhost:8080/",
          "height": 266
        },
        "id": "HWQRN7rG_COy",
        "outputId": "17c4806a-d691-46dd-b0cf-c5ef550eb6ba"
      },
      "execution_count": 28,
      "outputs": [
        {
          "output_type": "display_data",
          "data": {
            "text/plain": [
              "<Figure size 432x288 with 1 Axes>"
            ],
            "image/png": "[encoded data removed]"
          },
          "metadata": {
            "needs_background": "light"
          }
        }
      ]
    },
    {
      "cell_type": "code",
      "source": [
        "plt.scatter(names, values) # scatter(x, y)\n",
        "plt.show()"
      ],
      "metadata": {
        "colab": {
          "base_uri": "https://localhost:8080/",
          "height": 266
        },
        "id": "T9LRLkev_ESn",
        "outputId": "0b702386-58aa-4867-8a57-db405d0b93cf"
      },
      "execution_count": 29,
      "outputs": [
        {
          "output_type": "display_data",
          "data": {
            "text/plain": [
              "<Figure size 432x288 with 1 Axes>"
            ],
            "image/png": "[encoded data removed]"
          },
          "metadata": {
            "needs_background": "light"
          }
        }
      ]
    },
    {
      "cell_type": "code",
      "source": [
        "plt.bar(names, values) # bar(x, y)\n",
        "plt.show()"
      ],
      "metadata": {
        "colab": {
          "base_uri": "https://localhost:8080/",
          "height": 266
        },
        "id": "kggDw94J_Gku",
        "outputId": "6bc55507-1b6b-4b96-d74a-9b58d4b0834c"
      },
      "execution_count": 30,
      "outputs": [
        {
          "output_type": "display_data",
          "data": {
            "text/plain": [
              "<Figure size 432x288 with 1 Axes>"
            ],
            "image/png": "[encoded data removed]"
          },
          "metadata": {
            "needs_background": "light"
          }
        }
      ]
    }
  ]
}
