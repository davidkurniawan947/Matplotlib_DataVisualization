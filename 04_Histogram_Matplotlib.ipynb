{
  "nbformat": 4,
  "nbformat_minor": 0,
  "metadata": {
    "colab": {
      "provenance": []
    },
    "kernelspec": {
      "name": "python3",
      "display_name": "Python 3"
    },
    "language_info": {
      "name": "python"
    }
  },
  "cells": [
    {
      "cell_type": "markdown",
      "source": [
        "# **Matplotlib 03**\n",
        "Source : [Indonesia Belajar](https://youtu.be/VQl7Cb3rowA)\n"
      ],
      "metadata": {
        "id": "oM9k4oAF1Mjg"
      }
    },
    {
      "cell_type": "markdown",
      "source": [
        "# **Belajar Histogram**"
      ],
      "metadata": {
        "id": "iWCzFJ1w1eGC"
      }
    },
    {
      "cell_type": "markdown",
      "source": [
        "# Import Modules"
      ],
      "metadata": {
        "id": "H92dWu_81izb"
      }
    },
    {
      "cell_type": "code",
      "execution_count": 1,
      "metadata": {
        "id": "1ns77qvw1Fw-"
      },
      "outputs": [],
      "source": [
        "%matplotlib inline"
      ]
    },
    {
      "cell_type": "code",
      "source": [
        "import matplotlib\n",
        "import matplotlib.pyplot as plt\n",
        "import numpy as np\n",
        "\n",
        "print(matplotlib.__version__)\n",
        "print(np.__version__)"
      ],
      "metadata": {
        "colab": {
          "base_uri": "https://localhost:8080/"
        },
        "id": "d7YwcqIX1lom",
        "outputId": "85d2165d-0a26-48f4-84bc-b6edf3329ff5"
      },
      "execution_count": 2,
      "outputs": [
        {
          "output_type": "stream",
          "name": "stdout",
          "text": [
            "3.2.2\n",
            "1.21.6\n"
          ]
        }
      ]
    },
    {
      "cell_type": "markdown",
      "source": [
        "# Sample Data"
      ],
      "metadata": {
        "id": "WLgPLP6C1oEH"
      }
    },
    {
      "cell_type": "markdown",
      "source": [
        "- Nilai 10000 pada fungsi rand() akan merepresentasikan jumlah data point yang dihasilkan."
      ],
      "metadata": {
        "id": "Ph_wKyyE1qlC"
      }
    },
    {
      "cell_type": "code",
      "source": [
        "mu, sigma = 100, 15 # nilai mean dan nilai standard deviation\n",
        "\n",
        "x = mu + sigma * np.random.randn(10000) # normal distribution\n",
        "x"
      ],
      "metadata": {
        "colab": {
          "base_uri": "https://localhost:8080/"
        },
        "id": "uJOjXjAn1vYu",
        "outputId": "013a049d-53cd-4684-edbe-1491e0dd08c2"
      },
      "execution_count": 3,
      "outputs": [
        {
          "output_type": "execute_result",
          "data": {
            "text/plain": [
              "array([ 74.05332985, 108.00179781,  89.10559767, ..., 100.38171344,\n",
              "        98.93517812, 103.90518146])"
            ]
          },
          "metadata": {},
          "execution_count": 3
        }
      ]
    },
    {
      "cell_type": "code",
      "source": [
        "x.shape # Pembuktian jumlah data point"
      ],
      "metadata": {
        "colab": {
          "base_uri": "https://localhost:8080/"
        },
        "id": "T_-iadPy1xOK",
        "outputId": "17a987c3-f7f6-4f09-8249-468526b52e09"
      },
      "execution_count": 4,
      "outputs": [
        {
          "output_type": "execute_result",
          "data": {
            "text/plain": [
              "(10000,)"
            ]
          },
          "metadata": {},
          "execution_count": 4
        }
      ]
    },
    {
      "cell_type": "markdown",
      "source": [
        "# Histogram dengan pyplot Style"
      ],
      "metadata": {
        "id": "RK9ShQnn1y_E"
      }
    },
    {
      "cell_type": "markdown",
      "source": [
        "- Untuk membuat histogram cukup gunakan fungsi plt.hist(data set, bins)\n",
        "- Parameter bins berarti dari sekelompok n_data yang dimiliki akan kita bagi menjadi n_bins data.\n",
        "- Untuk menampilkan teks dalam histogram bisa menggunakan plt.text(koordinat_x, koordinat_y, 'text')."
      ],
      "metadata": {
        "id": "HhtDYBEA14J7"
      }
    },
    {
      "cell_type": "code",
      "source": [
        "plt.hist(x, \n",
        "         bins=50, \n",
        "         facecolor='g', # Green\n",
        "         alpha=0.50) # Bar Opacity = 50%\n",
        "\n",
        "plt.xlabel('Sumbu X')\n",
        "plt.ylabel('Sumbu Y')\n",
        "plt.title('Contoh Histogram')\n",
        "\n",
        "plt.text(45, 500, '$\\mu=100,\\ \\sigma=15$')\n",
        "plt.grid()\n",
        "\n",
        "plt.show()"
      ],
      "metadata": {
        "colab": {
          "base_uri": "https://localhost:8080/",
          "height": 295
        },
        "id": "qqTd0m792GjI",
        "outputId": "b4047552-f4bf-4858-fc6c-e0890be35964"
      },
      "execution_count": 5,
      "outputs": [
        {
          "output_type": "display_data",
          "data": {
            "text/plain": [
              "<Figure size 432x288 with 1 Axes>"
            ],
            "image/png": "[encoded data removed]"
          },
          "metadata": {
            "needs_background": "light"
          }
        }
      ]
    },
    {
      "cell_type": "markdown",
      "source": [
        "# Histogram dengan OO Style"
      ],
      "metadata": {
        "id": "nqtaIDsf2Icm"
      }
    },
    {
      "cell_type": "markdown",
      "source": [
        "- Gunakan minimal 2 variabel untuk menampung objek figure dan axes jika menggunakan OO Style.\n",
        "- Untuk menampilkan teks dalam histogram bisa menggunakan ax.text(koordinat_x, koordinat_y, 'text')."
      ],
      "metadata": {
        "id": "XzAECFCG2L4p"
      }
    },
    {
      "cell_type": "code",
      "source": [
        "fig, ax = plt.subplots()\n",
        "\n",
        "ax.hist(x, \n",
        "        bins=50, \n",
        "        facecolor='b', # Blue\n",
        "        alpha=0.25) # Bar Opacity = 25%\n",
        "\n",
        "ax.set_xlabel('Sumbu X')\n",
        "ax.set_ylabel('Sumbu Y')\n",
        "ax.set_title('Contoh Histogram')\n",
        "\n",
        "ax.text(45, 500, '$\\mu=100,\\ \\sigma=15$')\n",
        "ax.grid()\n",
        "\n",
        "plt.show()"
      ],
      "metadata": {
        "colab": {
          "base_uri": "https://localhost:8080/",
          "height": 295
        },
        "id": "uFDcZTbt2YDg",
        "outputId": "6a82732b-c4bb-4575-ca51-ad9a61f60a5d"
      },
      "execution_count": 6,
      "outputs": [
        {
          "output_type": "display_data",
          "data": {
            "text/plain": [
              "<Figure size 432x288 with 1 Axes>"
            ],
            "image/png": "[encoded data removed]"
          },
          "metadata": {
            "needs_background": "light"
          }
        }
      ]
    }
  ]
}
